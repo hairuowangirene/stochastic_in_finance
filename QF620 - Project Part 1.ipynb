{
 "cells": [
  {
   "cell_type": "markdown",
   "id": "e82d7cde",
   "metadata": {},
   "source": [
    "# Question 1 - Analytical Option Formular"
   ]
  },
  {
   "cell_type": "markdown",
   "id": "0ebc1298",
   "metadata": {},
   "source": [
    "## Black-Scholes model"
   ]
  },
  {
   "cell_type": "code",
   "execution_count": 222,
   "id": "4d54502a",
   "metadata": {},
   "outputs": [],
   "source": [
    "import numpy as np\n",
    "from scipy.stats import norm\n",
    "from math import log, sqrt, exp"
   ]
  },
  {
   "cell_type": "code",
   "execution_count": 134,
   "id": "30413ccc",
   "metadata": {},
   "outputs": [],
   "source": [
    "def blackscholescall(S, K, r, sigma, T):\n",
    "    d1 = (np.log(S/K) + (r + (sigma ** 2 / 2)) * T) / (sigma * sqrt(T))\n",
    "    d2 = d1 - sigma * sqrt(T)\n",
    "    V = S * norm.cdf(d1) - K * exp(-r * T)* norm.cdf(d2)\n",
    "    return V"
   ]
  },
  {
   "cell_type": "code",
   "execution_count": 130,
   "id": "e62c46a2",
   "metadata": {},
   "outputs": [],
   "source": [
    "def blackscholesput(S, K, r, sigma, T):\n",
    "    d1 = (log(S/K) + (r + (sigma ** 2  / 2)) * T) / (sigma * sqrt(T))\n",
    "    d2 = d1 - sigma * sqrt(T)\n",
    "    V = K * exp(-r * T) * norm.cdf(-d2) - S * norm.cdf(-d1)\n",
    "    return V"
   ]
  },
  {
   "cell_type": "code",
   "execution_count": 86,
   "id": "b05751dd",
   "metadata": {},
   "outputs": [],
   "source": [
    "def blackscholescashcall(S, K, r, sigma, T):\n",
    "    d1 = (log(S/K) + (r + (sigma ** 2 / 2)) * T) / (sigma * sqrt(T))\n",
    "    d2 = d1 - sigma * sqrt(T)\n",
    "    V = exp(-r * T) * norm.cdf(d2)\n",
    "    return V"
   ]
  },
  {
   "cell_type": "code",
   "execution_count": 87,
   "id": "50acd6ba",
   "metadata": {},
   "outputs": [],
   "source": [
    "def blackscholescashput(S, K, r, sigma, T):\n",
    "    d1 = (log(S/K) + (r + (sigma ** 2 / 2)) * T) / (sigma * sqrt(T))\n",
    "    d2 = d1 - sigma * sqrt(T)\n",
    "    V = exp(-r * T) * norm.cdf(-d2)\n",
    "    return V"
   ]
  },
  {
   "cell_type": "code",
   "execution_count": 147,
   "id": "bde046b2",
   "metadata": {},
   "outputs": [],
   "source": [
    "def blackscholesassetcall(S, K, r, sigma, T):\n",
    "    d1 = (log(S/K) + (r + (sigma ** 2 / 2)) * T) / (sigma * sqrt(T))\n",
    "    V = S * norm.cdf(d1)\n",
    "    return V"
   ]
  },
  {
   "cell_type": "code",
   "execution_count": 152,
   "id": "9edeab11",
   "metadata": {},
   "outputs": [],
   "source": [
    "def blackscholesassetput(S, K, r, sigma, T):\n",
    "    d1 = (log(S/K) + (r + (sigma ** 2 / 2)) * T) / (sigma * sqrt(T))\n",
    "    V = S * norm.cdf(-d1)\n",
    "    return V"
   ]
  },
  {
   "cell_type": "markdown",
   "id": "ddf45079",
   "metadata": {},
   "source": [
    "## Bachelier Model"
   ]
  },
  {
   "cell_type": "code",
   "execution_count": 44,
   "id": "9708cc69",
   "metadata": {},
   "outputs": [],
   "source": [
    "def bacheliercall(S, K, r, sigma_N, T):\n",
    "    x = (K - S) / (sigma_N * sqrt(T))\n",
    "    V = exp(-r * T) * ((S - K) * norm.cdf(-x) + sigma_N * sqrt(T) * norm.pdf(-x))\n",
    "    return V"
   ]
  },
  {
   "cell_type": "code",
   "execution_count": 76,
   "id": "acb682d6",
   "metadata": {},
   "outputs": [],
   "source": [
    "def bachelierput(S, K, r, sigma_N, T):\n",
    "    x = (K - S) / (sigma * sqrt(T))\n",
    "    V = exp(-r * T) * ((K - S) * norm.cdf(x) + sigma_N * sqrt(T) * norm.pdf(x))\n",
    "    return V"
   ]
  },
  {
   "cell_type": "code",
   "execution_count": 173,
   "id": "f506987b",
   "metadata": {},
   "outputs": [],
   "source": [
    "def bacheliercashcall(S, K, r, sigma_N, T):\n",
    "    x = (K - S) / (sigma_N * sqrt(T))\n",
    "    V = exp(- r * T) * norm.cdf(-x)\n",
    "    return V"
   ]
  },
  {
   "cell_type": "code",
   "execution_count": 174,
   "id": "a0b9f7a0",
   "metadata": {},
   "outputs": [],
   "source": [
    "def bacheliercashput(S, K, r, sigma_N, T):\n",
    "    x = (K - S) / (sigma_N * sqrt(T))\n",
    "    V = exp(- r * T) * norm.cdf(x)\n",
    "    return V"
   ]
  },
  {
   "cell_type": "code",
   "execution_count": 207,
   "id": "e7fbc2c1",
   "metadata": {},
   "outputs": [],
   "source": [
    "def bachelierassetcall(S, K, r, sigma_N, T):\n",
    "    x = (K - S) / (sigma_N * sqrt(T))\n",
    "    V = exp(- r * T) * (S * norm.cdf(-x) + sigma_N * sqrt(T) * norm.pdf(-x))\n",
    "    return V"
   ]
  },
  {
   "cell_type": "code",
   "execution_count": 26,
   "id": "badf0feb",
   "metadata": {},
   "outputs": [],
   "source": [
    "def bachelierassetput(S, K, r, sigma_N, T):\n",
    "    x = (K - S) / (sigma_N * sqrt(T))\n",
    "    V = exp(- r * T) * (S * norm.cdf(x) - sigma_N * sqrt(T) * norm.pdf(x))\n",
    "    return V"
   ]
  },
  {
   "cell_type": "markdown",
   "id": "b23f4075",
   "metadata": {},
   "source": [
    "## Black76 Model"
   ]
  },
  {
   "cell_type": "code",
   "execution_count": 188,
   "id": "48aa2098",
   "metadata": {},
   "outputs": [],
   "source": [
    "def black76call(S, K, r, sigma, T):\n",
    "    F = exp(r * T) * S\n",
    "    d1 = (log(F / K) + (1 / 2) * (sigma ** 2) * T) / (sigma * sqrt(T))\n",
    "    d2 = d1 - sigma * sqrt(T)\n",
    "    V = exp(-r * T) * (F * norm.cdf(d1) - K * norm.cdf(d2))\n",
    "    return V"
   ]
  },
  {
   "cell_type": "code",
   "execution_count": 193,
   "id": "bd813d70",
   "metadata": {},
   "outputs": [],
   "source": [
    "def black76put(S, K, r, sigma, T):\n",
    "    F = exp(r * T) * S\n",
    "    d1 = (log(F / K) + (1 / 2) * (sigma ** 2) * T) / (sigma * sqrt(T))\n",
    "    d2 = d1 - sigma * sqrt(T)\n",
    "    V = exp(-r * T) * (K * norm.cdf(-d2) - F * norm.cdf(-d1))\n",
    "    return V"
   ]
  },
  {
   "cell_type": "code",
   "execution_count": 194,
   "id": "0fefb5aa",
   "metadata": {},
   "outputs": [],
   "source": [
    "def black76cashcall(S, K, r, sigma, T):\n",
    "    F = exp(r * T) * S\n",
    "    d1 = (log(F / K) + (1 / 2) * (sigma ** 2) * T) / (sigma * sqrt(T))\n",
    "    d2 = d1 - sigma * sqrt(T)\n",
    "    V = exp(-r * T) * norm.cdf(d2)\n",
    "    return V"
   ]
  },
  {
   "cell_type": "code",
   "execution_count": 199,
   "id": "3e7f20fa",
   "metadata": {},
   "outputs": [],
   "source": [
    "def black76cashput(S, K, r, sigma, T):\n",
    "    F = exp(r * T) * S\n",
    "    d1 = (log(F / K) + (1 / 2) * (sigma ** 2) * T) / (sigma * sqrt(T))\n",
    "    d2 = d1 - sigma * sqrt(T)\n",
    "    V = exp(-r * T) * norm.cdf(-d2)\n",
    "    return V"
   ]
  },
  {
   "cell_type": "code",
   "execution_count": 211,
   "id": "ca23e9ef",
   "metadata": {},
   "outputs": [],
   "source": [
    "def black76assetcall(S, K, r, sigma, T):\n",
    "    F = exp(r * T) * S\n",
    "    d1 = (log(F / K) + (1 / 2) * (sigma ** 2) * T) / (sigma * sqrt(T))\n",
    "    d2 = d1 - sigma * sqrt(T)\n",
    "    V = exp(-r * T) * F * norm.cdf(d1)\n",
    "    return V"
   ]
  },
  {
   "cell_type": "code",
   "execution_count": 212,
   "id": "3fc761cc",
   "metadata": {},
   "outputs": [],
   "source": [
    "def black76assetput(S, K, r, sigma, T):\n",
    "    F = exp(r * T) * S\n",
    "    d1 = (log(F / K) + (1 / 2) * (sigma ** 2) * T) / (sigma * sqrt(T))\n",
    "    d2 = d1 - sigma * sqrt(T)\n",
    "    V = exp(-r * T) * F * norm.cdf(-d1)\n",
    "    return V"
   ]
  },
  {
   "cell_type": "markdown",
   "id": "a05971db",
   "metadata": {},
   "source": [
    "## Displaced-diffusion model"
   ]
  },
  {
   "cell_type": "code",
   "execution_count": 215,
   "id": "25897dea",
   "metadata": {},
   "outputs": [],
   "source": [
    "def displacediffusioncall(S, K, r, sigma, T, beta):\n",
    "    F = exp(r * T) * S\n",
    "    x = (log((beta * K + (1 - beta) * F) / F) + ((beta ** 2)* (sigma ** 2) * T) / 2) / (beta * sigma * sqrt(T)) \n",
    "    V = exp(- r * T) * ((F / beta)* norm.cdf(-x + sigma * sqrt(T) * beta) - (((1 - beta) / beta) * F + K) * norm.cdf(-x))\n",
    "    return V"
   ]
  },
  {
   "cell_type": "code",
   "execution_count": 216,
   "id": "eb48b40a",
   "metadata": {},
   "outputs": [],
   "source": [
    "def displacediffusionput(S, K, r, sigma, T, beta):\n",
    "    F = exp(r * T) * S\n",
    "    x = (log((beta * K + (1 - beta) * F) / F) + ((beta ** 2)* (sigma ** 2) * T) / 2) / (beta * sigma * sqrt(T))\n",
    "    V = exp(-r * T) * ((K + ((1-beta) / beta) * F) * norm.cdf(x) - (F / beta) * norm.cdf(x - sigma * sqrt(T) * beta))\n",
    "    return V"
   ]
  },
  {
   "cell_type": "code",
   "execution_count": 217,
   "id": "b72a4ee8",
   "metadata": {},
   "outputs": [],
   "source": [
    "def displacediffusioncashcall(S, K, r, sigma, T, beta):\n",
    "    F = exp(r * T) * S\n",
    "    x = (log((beta * K + (1 - beta) * F) / F) + ((beta ** 2)* (sigma ** 2) * T) / 2) / (beta * sigma * sqrt(T))\n",
    "    V = exp(-r * T) * norm.cdf(-x)\n",
    "    return V"
   ]
  },
  {
   "cell_type": "code",
   "execution_count": 218,
   "id": "deaab381",
   "metadata": {},
   "outputs": [],
   "source": [
    "def displacediffusioncashput(S, K, r, sigma, T, beta):\n",
    "    F = exp(r * T) * S\n",
    "    x = (log((beta * K + (1 - beta) * F) / F) + ((beta ** 2)* (sigma ** 2) * T) / 2) / (beta * sigma * sqrt(T))\n",
    "    V = exp(-r * T) * norm.cdf(x)\n",
    "    return V"
   ]
  },
  {
   "cell_type": "code",
   "execution_count": 219,
   "id": "87afc79d",
   "metadata": {},
   "outputs": [],
   "source": [
    "def displacediffusionassetcall(S, K, r, sigma, T, beta):\n",
    "    F = exp(r * T) * S\n",
    "    x = (log((beta * K + (1 - beta) * F) / F) + ((beta ** 2)* (sigma ** 2) * T) / 2) / (beta * sigma * sqrt(T))\n",
    "    V = exp(-r * T) * ((F / beta) * norm.cdf(-x + sigma * beta * sqrt(T)) - ((1 - beta)/beta) * F * norm.cdf(-x))\n",
    "    return V"
   ]
  },
  {
   "cell_type": "code",
   "execution_count": 221,
   "id": "45322760",
   "metadata": {},
   "outputs": [],
   "source": [
    "def displacediffusionassetput(S, K, r, sigma, T, beta):\n",
    "    F = exp(r * T) * S\n",
    "    x = (log((beta * K + (1 - beta) * F) / F) + ((beta ** 2)* (sigma ** 2) * T) / 2) / (beta * sigma * sqrt(T))\n",
    "    V = exp(-r * T) * ((F / beta) * norm.cdf(x - sigma * beta * sqrt(T)) - ((1 - beta)/beta) * F * norm.cdf(x))\n",
    "    return V"
   ]
  }
 ],
 "metadata": {
  "kernelspec": {
   "display_name": "Python 3 (ipykernel)",
   "language": "python",
   "name": "python3"
  },
  "language_info": {
   "codemirror_mode": {
    "name": "ipython",
    "version": 3
   },
   "file_extension": ".py",
   "mimetype": "text/x-python",
   "name": "python",
   "nbconvert_exporter": "python",
   "pygments_lexer": "ipython3",
   "version": "3.9.12"
  }
 },
 "nbformat": 4,
 "nbformat_minor": 5
}
